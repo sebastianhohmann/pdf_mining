{
 "cells": [
  {
   "cell_type": "code",
   "execution_count": 1,
   "metadata": {},
   "outputs": [],
   "source": [
    "from pdfminer.pdfinterp import PDFResourceManager, PDFPageInterpreter\n",
    "from pdfminer.converter import TextConverter\n",
    "from pdfminer.layout import LAParams\n",
    "from pdfminer.pdfpage import PDFPage\n",
    "from io import StringIO\n",
    "import re\n",
    "import pandas as pd"
   ]
  },
  {
   "cell_type": "markdown",
   "metadata": {},
   "source": [
    "# 1. Defining a function to convert PDF to text"
   ]
  },
  {
   "cell_type": "code",
   "execution_count": 2,
   "metadata": {},
   "outputs": [],
   "source": [
    "def convert_pdf_to_txt(path, pages = None):\n",
    "    '''\n",
    "    source: http://stackoverflow.com/a/26495057\n",
    "    '''\n",
    "    rsrcmgr = PDFResourceManager()\n",
    "    retstr = StringIO()\n",
    "    codec = 'utf-8'\n",
    "    laparams = LAParams()\n",
    "    device = TextConverter(rsrcmgr, retstr, codec=codec, laparams=laparams)\n",
    "    fp = open(path, 'rb')\n",
    "    interpreter = PDFPageInterpreter(rsrcmgr, device)\n",
    "    password = \"\"\n",
    "    maxpages = 0\n",
    "    caching = True\n",
    "\n",
    "    if not pages:\n",
    "        pagenos = set()\n",
    "    else:\n",
    "        pagenos = set(pages)\n",
    "\n",
    "    for page in PDFPage.get_pages(fp,\n",
    "                                  pagenos,\n",
    "                                  maxpages=maxpages,\n",
    "                                  password=password,\n",
    "                                  caching=caching,\n",
    "                                  check_extractable=True):\n",
    "        interpreter.process_page(page)\n",
    "\n",
    "    text = retstr.getvalue()\n",
    "\n",
    "    fp.close()\n",
    "    device.close()\n",
    "    retstr.close()\n",
    "    return text"
   ]
  },
  {
   "cell_type": "markdown",
   "metadata": {},
   "source": [
    "# 2. Defining path to PDF, pages of interest, extracting raw .txt"
   ]
  },
  {
   "cell_type": "code",
   "execution_count": 3,
   "metadata": {},
   "outputs": [],
   "source": [
    "PDFpath = \"./108849.pdf\"\n",
    "pageofint = [1, 41]\n",
    "rawtxt = convert_pdf_to_txt(PDFpath, pageofint)"
   ]
  },
  {
   "cell_type": "markdown",
   "metadata": {},
   "source": [
    "As an example, we are now going to extract several pieces of information \n",
    "\n",
    "1) The Legal name\n",
    "\n",
    "2) The Advisory business name \n",
    "\n",
    "3) The list of Direct Owners and Executive Officers (Schedule A) \n",
    "\n",
    "4) The list of Indirect Owners (Schedule B)\n",
    "\n",
    "Extracting 1 and 2 is simple because it is simply a matter of finding a single line of text. 3) and 4) are more complicated because they require extracting text from a table and bringing the extracted text back to this format. "
   ]
  },
  {
   "cell_type": "markdown",
   "metadata": {},
   "source": [
    "# 3. Legal and advisory business names"
   ]
  },
  {
   "cell_type": "code",
   "execution_count": 4,
   "metadata": {},
   "outputs": [],
   "source": [
    "legname = re.search(r'Your\\sfull\\slegal\\sname\\s\\(if\\syou\\sare\\sa\\ssole\\sproprietor,'\n",
    "                    r'\\syour\\slast,\\sfirst,\\sand\\smiddle\\snames\\):(.*?)B\\.Name\\sunder',\n",
    "                    rawtxt, flags = re.DOTALL).group(1).strip()\n",
    "adbusname = re.search(r'Name\\sunder\\swhich\\syou\\sprimarily\\sconduct\\syour\\sadvisory\\sbusiness,'\n",
    "                      r'\\sif\\sdifferent\\sfrom\\sItem\\s1\\.A\\.:(.*?)List\\son\\sSection',\n",
    "                      rawtxt, flags = re.DOTALL).group(1).strip()"
   ]
  },
  {
   "cell_type": "code",
   "execution_count": 5,
   "metadata": {},
   "outputs": [
    {
     "name": "stdout",
     "output_type": "stream",
     "text": [
      "BOGLE INVESTMENT MANAGEMENT L P\n",
      "BOGLE INVESTMENT MANAGEMENT, L.P.\n"
     ]
    }
   ],
   "source": [
    "print(legname)\n",
    "print(adbusname)"
   ]
  },
  {
   "cell_type": "markdown",
   "metadata": {},
   "source": [
    "# 4. Lists of Direct and Indirect Owners\n",
    "## 4.1 Extracting the pieces of text containing the tables"
   ]
  },
  {
   "cell_type": "code",
   "execution_count": 6,
   "metadata": {},
   "outputs": [],
   "source": [
    "schedAraw = re.search(r'Complete\\seach\\scolumn\\..*?FULL\\sLEGAL.*?or\\sEmployer\\sID\\sNo'\n",
    "                      r'\\.(.*?)Schedule\\sBIndirect',\n",
    "                      rawtxt, flags = re.DOTALL).group(1).strip()\n",
    "schedBraw = re.search(r'or\\sEmployer\\sID\\sNo\\..*(BOGLE\\sINV.+?PARTNER.*?)'\n",
    "                      r'Schedule\\sD\\s-\\sMiscellaneous',\n",
    "                      rawtxt, flags = re.DOTALL).group(1).strip()"
   ]
  },
  {
   "cell_type": "markdown",
   "metadata": {},
   "source": [
    "## 4.2 Adding line breaks after last field of each of the two tables and split on line breaks"
   ]
  },
  {
   "cell_type": "code",
   "execution_count": 7,
   "metadata": {},
   "outputs": [],
   "source": [
    "schedA = re.sub(r'([0-9]{2}-[0-9]{7}|[0-9]{7})', r'\\1\\n', schedAraw).splitlines()\n",
    "schedB = re.sub(r'([0-9]{2}-[0-9]{7}|[0-9]{7})', r'\\1\\n', schedBraw).splitlines()"
   ]
  },
  {
   "cell_type": "markdown",
   "metadata": {},
   "source": [
    "## 4.3 Extracting each field of each line with a regex"
   ]
  },
  {
   "cell_type": "code",
   "execution_count": 8,
   "metadata": {},
   "outputs": [],
   "source": [
    "sAtl = []\n",
    "sBtl = []\n",
    "for entry in schedA:\n",
    "    crd_no = re.search(r'(.+[YN])([0-9]{2}-[0-9]{7}|[0-9]{7})', entry).group(2)\n",
    "    pr = re.search(r'(.+)([YN])([0-9]{2}-[0-9]{7}|[0-9]{7})', entry).group(2)\n",
    "    cont_pers = re.search(r'(.+)([YN])([YN])([0-9]{2}-[0-9]{7}|[0-9]{7})', entry).group(2)\n",
    "    own_code = re.search(r'(.+)(NA|A|B|C|D|E)([YN])([YN])'\n",
    "                         r'([0-9]{2}-[0-9]{7}|[0-9]{7})', entry).group(2)\n",
    "    date_saq = re.search(r'(.+)([0-9]{2}/[0-9]{4})(NA|A|B|C|D|E)([YN])([YN])'\n",
    "                         r'([0-9]{2}-[0-9]{7}|[0-9]{7})', entry).group(2)\n",
    "    status = re.search(r'(.+)(DE|FE|I)(LIMITED|GENERAL)([A-Z\\s]+)([0-9]{2}/[0-9]{4})'\n",
    "                       r'(NA|A|B|C|D|E)([YN])([YN])([0-9]{2}-[0-9]{7}|[0-9]{7})', entry).group(3) + \" \" + \\\n",
    "             re.search(r'(.+)(DE|FE|I)(LIMITED|GENERAL)([A-Z\\s]+)([0-9]{2}/[0-9]{4})'\n",
    "                       r'(NA|A|B|C|D|E)([YN])([YN])([0-9]{2}-[0-9]{7}|[0-9]{7})', entry).group(4)\n",
    "    dfei = re.search(r'(.+)(DE|FE|I)(LIMITED|GENERAL)([A-Z\\s]+)([0-9]{2}/[0-9]{4})'\n",
    "                     r'(NA|A|B|C|D|E)([YN])([YN])([0-9]{2}-[0-9]{7}|[0-9]{7})', entry).group(2)\n",
    "    fln = re.search(r'(.+)(DE|FE|I)(LIMITED|GENERAL)([A-Z\\s]+)([0-9]{2}/[0-9]{4})'\n",
    "                    r'(NA|A|B|C|D|E)([YN])([YN])([0-9]{2}-[0-9]{7}|[0-9]{7})', entry).group(1)\n",
    "    tup = (fln, dfei, status, date_saq, own_code, cont_pers, pr, crd_no)\n",
    "    sAtl.append(tup)\n",
    "\n",
    "for entry in schedB:\n",
    "    crd_no = re.search(r'(.+[YN])([0-9]{2}-[0-9]{7}|[0-9]{7})', entry).group(2)\n",
    "    pr = re.search(r'(.+)([YN])([0-9]{2}-[0-9]{7}|[0-9]{7})', entry).group(2)\n",
    "    cont_pers = re.search(r'(.+)([YN])([YN])([0-9]{2}-[0-9]{7}|[0-9]{7})', entry).group(2)\n",
    "    own_code = re.search(r'(.+)(NA|A|B|C|D|E|F)([YN])([YN])'\n",
    "                         r'([0-9]{2}-[0-9]{7}|[0-9]{7})', entry).group(2)\n",
    "    date_saq = re.search(r'(.+)([0-9]{2}/[0-9]{4})(NA|A|B|C|D|E|F)([YN])([YN])'\n",
    "                         r'([0-9]{2}-[0-9]{7}|[0-9]{7})', entry).group(2)\n",
    "    status = re.search(r'(.+)(DE|FE|I)(LLC|NA)(SOLE|GENERAL)([A-Z\\s]+)([0-9]{2}/[0-9]{4})'\n",
    "                       r'(NA|A|B|C|D|E|F)([YN])([YN])([0-9]{2}-[0-9]{7}|[0-9]{7})', entry).group(4) + \" \" + \\\n",
    "             re.search(r'(.+)(DE|FE|I)(LLC|NA)(SOLE|GENERAL)([A-Z\\s]+)([0-9]{2}/[0-9]{4})'\n",
    "                       r'(NA|A|B|C|D|E|F)([YN])([YN])([0-9]{2}-[0-9]{7}|[0-9]{7})', entry).group(5)\n",
    "    ent_int = re.search(r'(.+)(DE|FE|I)(LLC|NA)(SOLE|GENERAL)([A-Z\\s]+)([0-9]{2}/[0-9]{4})'\n",
    "                        r'(NA|A|B|C|D|E|F)([YN])([YN])([0-9]{2}-[0-9]{7}|[0-9]{7})', entry).group(3)\n",
    "    dfei = re.search(r'(.+)(DE|FE|I)(LLC|NA)(SOLE|GENERAL)([A-Z\\s]+)([0-9]{2}/[0-9]{4})'\n",
    "                     r'(NA|A|B|C|D|E|F)([YN])([YN])([0-9]{2}-[0-9]{7}|[0-9]{7})', entry).group(2)\n",
    "    fln = re.search(r'(.+)(DE|FE|I)(LLC|NA)(SOLE|GENERAL)([A-Z\\s]+)([0-9]{2}/[0-9]{4})'\n",
    "                    r'(NA|A|B|C|D|E|F)([YN])([YN])([0-9]{2}-[0-9]{7}|[0-9]{7})', entry).group(1)\n",
    "    tup = (fln, dfei, ent_int, status, date_saq, own_code, cont_pers, pr, crd_no)\n",
    "    sBtl.append(tup)  \n"
   ]
  },
  {
   "cell_type": "markdown",
   "metadata": {},
   "source": [
    "## 4.4 Dumping the result into pandas dataframes"
   ]
  },
  {
   "cell_type": "code",
   "execution_count": 9,
   "metadata": {},
   "outputs": [],
   "source": [
    "schedAnames = ['FULL LEGAL NAME', 'DE/FE/I', 'Status', 'Date Status Acquired',\n",
    "               'Ownership Code', 'Control Person', 'PR', 'CRD No.']\n",
    "schedBnames = ['FULL LEGAL NAME', 'DE/FE/I', 'Entity in Which Interest is Owned',\n",
    "               'Status', 'Date Status Acquired', 'Ownership Code', 'Control Person', 'PR', 'CRD No.']\n",
    "\n",
    "sAdf =  pd.DataFrame(data = sAtl, columns=schedAnames) \n",
    "sBdf =  pd.DataFrame(data = sBtl, columns=schedBnames) "
   ]
  },
  {
   "cell_type": "code",
   "execution_count": 10,
   "metadata": {},
   "outputs": [
    {
     "name": "stdout",
     "output_type": "stream",
     "text": [
      "                FULL LEGAL NAME DE/FE/I                  Status  \\\n",
      "0           HARTT, KEITH, DAVID       I         LIMITED PARTNER   \n",
      "1      BOGLE JR., JOHN, CLIFTON       I         LIMITED PARTNER   \n",
      "2  BARDINELLI, BRITT, STEPHANIE       I  LIMITED PARTNER ANDCCO   \n",
      "3    BOGLE INVESTMENT GROUP LLC      DE         GENERAL PARTNER   \n",
      "4       SABBEY, CHRISTOPHER, N.       I         LIMITED PARTNER   \n",
      "5           LEWIS, JONATHON, D.       I         LIMITED PARTNER   \n",
      "6              HUMMEL, PAUL, R.       I         LIMITED PARTNER   \n",
      "\n",
      "  Date Status Acquired Ownership Code Control Person PR     CRD No.  \n",
      "0              05/1999              B              Y  N     4373231  \n",
      "1              05/1999              C              Y  N     2662428  \n",
      "2              09/1999              A              Y  N     2839637  \n",
      "3              05/1999              A              Y  N  04-3479131  \n",
      "4              06/2001              B              N  N     5648650  \n",
      "5              08/2002              B              N  N     5648652  \n",
      "6              04/2004              B              N  N     5648654  \n",
      "              FULL LEGAL NAME DE/FE/I Entity in Which Interest is Owned  \\\n",
      "0  BOGLE INVESTMENT GROUP LLC      DE                               LLC   \n",
      "1    BOGLE JR., JOHN, CLIFTON       I                                NA   \n",
      "\n",
      "                                    Status Date Status Acquired  \\\n",
      "0                         GENERAL  PARTNER              05/1999   \n",
      "1  SOLE  OWNER OFBOGLE INVESTMENTGROUP LLC              05/1999   \n",
      "\n",
      "  Ownership Code Control Person PR     CRD No.  \n",
      "0              F              Y  N  04-3479131  \n",
      "1              E              Y  N     2662428  \n"
     ]
    }
   ],
   "source": [
    "print(sAdf)\n",
    "print(sBdf)"
   ]
  },
  {
   "cell_type": "code",
   "execution_count": null,
   "metadata": {},
   "outputs": [],
   "source": []
  }
 ],
 "metadata": {
  "kernelspec": {
   "display_name": "Python 3",
   "language": "python",
   "name": "python3"
  },
  "language_info": {
   "codemirror_mode": {
    "name": "ipython",
    "version": 3
   },
   "file_extension": ".py",
   "mimetype": "text/x-python",
   "name": "python",
   "nbconvert_exporter": "python",
   "pygments_lexer": "ipython3",
   "version": "3.6.9"
  }
 },
 "nbformat": 4,
 "nbformat_minor": 4
}
